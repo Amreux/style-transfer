{
 "cells": [
  {
   "cell_type": "code",
   "execution_count": null,
   "id": "initial_id",
   "metadata": {
    "collapsed": true
   },
   "outputs": [],
   "source": [
    "from Common_Functions.CommonFunctions import *\n",
    "from Patches_Functions.ExtractPatches import extract_patches\n",
    "from sklearn.neighbors import NearestNeighbors\n",
    "# from color_transfer import color_transfer\n",
    "# from irls import irls\n",
    "# from segmentation.FaceDetectionSegmentation import segement\n",
    "import cv2\n",
    "from skimage.transform import pyramid_gaussian\n",
    "import skimage.filters as f\n",
    "from scipy.ndimage import gaussian_filter\n",
    "import imageio.v3 as iio\n",
    "\n",
    "\n",
    "img1 = io.imread(\"../imgs/content3.jpg\")\n",
    "show_images([img1], [\"img1\"])\n",
    "show_images([img1[-300:,:,:]])\n",
    "show_images([cv2.resize(img1[-300:,:,:], (img1.shape[1], img1.shape[0]))])\n",
    "iio.imwrite(uri=\"D:\\ip_project\\style-transfer\\imgs\\output\\\\russia_gray.jpg\", image=(img1*255))"
   ]
  },
  {
   "cell_type": "code",
   "execution_count": null,
   "outputs": [],
   "source": [],
   "metadata": {
    "collapsed": false
   },
   "id": "5ae7798f1820ad47"
  }
 ],
 "metadata": {
  "kernelspec": {
   "display_name": "Python 3",
   "language": "python",
   "name": "python3"
  },
  "language_info": {
   "codemirror_mode": {
    "name": "ipython",
    "version": 2
   },
   "file_extension": ".py",
   "mimetype": "text/x-python",
   "name": "python",
   "nbconvert_exporter": "python",
   "pygments_lexer": "ipython2",
   "version": "2.7.6"
  }
 },
 "nbformat": 4,
 "nbformat_minor": 5
}
