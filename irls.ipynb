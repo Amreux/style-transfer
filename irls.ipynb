{
 "cells": [
  {
   "cell_type": "code",
   "execution_count": 3,
   "metadata": {
    "ExecuteTime": {
     "end_time": "2023-12-10T20:15:08.708461500Z",
     "start_time": "2023-12-10T20:15:07.328678300Z"
    }
   },
   "outputs": [],
   "source": [
    "from patchify import patchify\n",
    "import numpy as np\n",
    "import cv2\n",
    "from Common_Functions.CommonFunctions import show_images, io"
   ]
  },
  {
   "cell_type": "code",
   "execution_count": 6,
   "metadata": {
    "ExecuteTime": {
     "end_time": "2023-12-10T21:45:53.080273100Z",
     "start_time": "2023-12-10T21:45:53.029193300Z"
    }
   },
   "outputs": [],
   "source": [
    "def irls(X,z,r,Iirls,patch_size,subsampling_gap):\n",
    "    Xp=patchify(X,patch_size,subsampling_gap)\n",
    "    num_of_patches=(np.shape(Xp)[0]+1)*(np.shape(Xp)[1]+1)\n",
    "    w=(np.ones((num_of_patches,1)))\n",
    "    # z should be initialized with patch matching\n",
    "    for i in range(0,Iirls):\n",
    "        for x in range(0,np.shape(Xp)[0]):\n",
    "            for y in range(0,np.shape(Xp)[1]):\n",
    "                print(z.shape)\n",
    "                e=Xp[x,y,0,:,:,:]-z[x,y,0,:,:,:]\n",
    "                e2=np.sum(e**2)**0.5+0.00001\n",
    "                w[x*np.shape(Xp)[0]+y]=(e2**(r-2))\n",
    "                Xp[x,y,0,:,:,:]+=(z[x,y,0,:,:,:]-Xp[x,y,0,:,:,:])*w[x*np.shape(Xp)[0]+y]"
   ]
  },
  {
   "cell_type": "code",
   "execution_count": null,
   "metadata": {},
   "outputs": [],
   "source": [
    "img=io.imread(\"imgs/starry.jpg\")\n",
    "X=io.imread(\"imgs/vat.jpg\")\n",
    "X=cv2.resize(X,(np.shape(img)[1],np.shape(img)[0]))\n",
    "img=cv2.resize(img,(np.shape(X)[1],np.shape(X)[0]))\n",
    "img=img.astype(float)\n",
    "X=X.astype(float)\n",
    "imgp=patchify(img,(20,20,3),20)\n",
    "\n",
    "irls(X,imgp,1.5,10,(20,20,3),20)\n",
    "show_images([imgp[0,0,0,:,:,:]/255,img/255,X/255])"
   ]
  },
  {
   "cell_type": "code",
   "execution_count": null,
   "outputs": [],
   "source": [],
   "metadata": {
    "collapsed": false
   }
  }
 ],
 "metadata": {
  "kernelspec": {
   "display_name": "Python 3",
   "language": "python",
   "name": "python3"
  },
  "language_info": {
   "codemirror_mode": {
    "name": "ipython",
    "version": 3
   },
   "file_extension": ".py",
   "mimetype": "text/x-python",
   "name": "python",
   "nbconvert_exporter": "python",
   "pygments_lexer": "ipython3",
   "version": "3.10.11"
  }
 },
 "nbformat": 4,
 "nbformat_minor": 2
}
