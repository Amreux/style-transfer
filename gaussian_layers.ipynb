{
 "cells": [
  {
   "cell_type": "code",
   "execution_count": null,
   "id": "initial_id",
   "metadata": {
    "ExecuteTime": {
     "end_time": "2023-12-11T20:07:22.518673200Z",
     "start_time": "2023-12-11T20:07:21.768349800Z"
    },
    "collapsed": true
   },
   "outputs": [],
   "source": [
    "import numpy as np\n",
    "import matplotlib.pyplot as plt\n",
    "from Common_Functions.CommonFunctions import *\n",
    "import skimage.io as io\n",
    "from skimage import data\n",
    "from skimage.transform import pyramid_gaussian"
   ]
  },
  {
   "cell_type": "code",
   "execution_count": null,
   "id": "d1130b55f6e47fbd",
   "metadata": {
    "ExecuteTime": {
     "end_time": "2023-12-11T21:50:15.799867900Z",
     "start_time": "2023-12-11T21:50:14.889394300Z"
    },
    "collapsed": false
   },
   "outputs": [],
   "source": [
    "def gauss_layers (img, L):\n",
    "    rows, cols, dim = img.shape\n",
    "    pyramid1 = tuple(pyramid_gaussian(img, channel_axis=-1, max_layer=L, downscale=1.5))\n",
    "    print(len(pyramid1))\n",
    "    \n",
    "    show_images([pyramid1[0],pyramid1[1], pyramid1[2], pyramid1[3], pyramid1[4]])\n",
    "    ss=np.pad(pyramid1[0], ((33, 33), (33, 33), (0, 0)), 'constant', constant_values=(1, 1))\n",
    "    show_images([ss])\n",
    "img1 = io.imread('imgs/vat.jpg').astype(np.float32)/255\n",
    "\n",
    "gauss_layers(img1, 4)"
   ]
  },
  {
   "cell_type": "code",
   "execution_count": null,
   "id": "17c03902e956bd6b",
   "metadata": {
    "collapsed": false
   },
   "outputs": [],
   "source": []
  }
 ],
 "metadata": {
  "kernelspec": {
   "display_name": "Python 3",
   "language": "python",
   "name": "python3"
  },
  "language_info": {
   "codemirror_mode": {
    "name": "ipython",
    "version": 2
   },
   "file_extension": ".py",
   "mimetype": "text/x-python",
   "name": "python",
   "nbconvert_exporter": "python",
   "pygments_lexer": "ipython2",
   "version": "2.7.6"
  }
 },
 "nbformat": 4,
 "nbformat_minor": 5
}
