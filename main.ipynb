{
 "cells": [
  {
   "cell_type": "code",
   "execution_count": null,
   "metadata": {},
   "outputs": [],
   "source": [
    "import numpy as np    \n",
    "import utils"
   ]
  },
  {
   "cell_type": "code",
   "execution_count": null,
   "metadata": {},
   "outputs": [],
   "source": [
    "def style_transfer(content,style,r,L,Iirls,patch_sizes,subsampling_gaps, Ialg):\n",
    "    # color transfer\n",
    "    # gaussian pyramid\n",
    "    # patch tree(optional)\n",
    "    X= np.random.normal(0,50,np.shape(content))\n",
    "    \n",
    "\n",
    "show_images([])\n",
    "\n",
    "\n",
    "\n"
   ]
  }
 ],
 "metadata": {
  "language_info": {
   "name": "python"
  }
 },
 "nbformat": 4,
 "nbformat_minor": 2
}
