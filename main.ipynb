{
 "cells": [
  {
   "cell_type": "code",
   "execution_count": 149,
   "metadata": {
    "ExecuteTime": {
     "end_time": "2023-12-10T22:04:55.978310700Z",
     "start_time": "2023-12-10T22:04:55.932764300Z"
    }
   },
   "outputs": [],
   "source": [
    "from Common_Functions.CommonFunctions import *\n",
    "from Patches_Functions.ExtractPatches import extract_patches\n",
    "from sklearn.neighbors import NearestNeighbors\n",
    "from skimage import transform\n",
    "# from irls import irls"
   ]
  },
  {
   "cell_type": "code",
   "execution_count": null,
   "metadata": {},
   "outputs": [],
   "source": [
    "def irls(X,z,r,Iirls,patch_size,subsampling_gap):\n",
    "    Xp=extract_patches(X,patch_size,subsampling_gap)\n",
    "    num_of_patches=(np.shape(Xp)[0]+1)*(np.shape(Xp)[1]+1)\n",
    "    w=(np.ones((num_of_patches,1)))\n",
    "    # z should be initialized with patch matching\n",
    "    for i in range(0, Iirls):\n",
    "        for x in range(0, np.shape(Xp)[0]):\n",
    "            for y in range(0,np.shape(Xp)[1]):\n",
    "                e=Xp[x,y,0,:,:,:]-z[x*np.shape(Xp)[0]+y]\n",
    "                e2=np.sum(e**2)**0.5+0.00001\n",
    "                w[x*np.shape(Xp)[0]+y]=(e2**(r-2))\n",
    "                Xp[x,y,0,:,:,:]+=(z[x*np.shape(Xp)[0]+y]-Xp[x,y,0,:,:,:])*w[x*np.shape(Xp)[0]+y]\n",
    "\n",
    "def style_transfer(content,style,r,L,Iirls,patch_sizes,subsampling_gaps, Ialg):\n",
    "    # color transfer\n",
    "    # gaussian pyramid\n",
    "    # patch tree(optional)\n",
    "    X= random_noise(content, mode=\"gaussian\",mean=0,var=0.02)\n",
    "    for l in range (L-1,-1,-1):\n",
    "        for s in range(0,len(patch_sizes)):\n",
    "            style_patches =  extract_patches(style,(patch_sizes[s], patch_sizes[s], 3),subsampling_gaps[s])\n",
    "            flatten_style_patches = style_patches.reshape(-1, patch_sizes[s] * patch_sizes[s] * 3)\n",
    "            nn_model = NearestNeighbors(n_neighbors=1).fit(flatten_style_patches)\n",
    "            z=[]\n",
    "            for k in range(0,Ialg):\n",
    "                Xp=extract_patches(X,(patch_sizes[s], patch_sizes[s], 3),subsampling_gaps[s])\n",
    "                flatten_Xp = Xp.reshape(-1, patch_sizes[s] * patch_sizes[s] * 3)\n",
    "                for Xpatch in flatten_Xp:\n",
    "                   Xpatch = [Xpatch]     \n",
    "                   flatten_neighbour_patch = flatten_style_patches[nn_model.kneighbors(Xpatch)[1][0][0]]\n",
    "                   # show_images([flatten_neighbour_patch.reshape(patch_sizes[s], patch_sizes[s], 3), Xpatch[0].reshape(patch_sizes[s], patch_sizes[s], 3)])\n",
    "                   z.append(flatten_neighbour_patch.reshape(patch_sizes[s], patch_sizes[s], 3)) # we need to reshape the z to be n*n*3\n",
    "                irls(X,z,r,Iirls,(patch_sizes[s],patch_sizes[s],3),subsampling_gaps[s]) \n",
    "                show_images([X])\n",
    "\n",
    "\n",
    "\n",
    "\n",
    "\n",
    "\n",
    "\n",
    "\n",
    "\n",
    "\n",
    "style=io.imread(\"imgs/starry.jpg\").astype(float)/255\n",
    "X=io.imread(\"imgs/vat.jpg\").astype(float)/255\n",
    "# X = transform.resize(X, style.shape[:2], mode='constant', anti_aliasing=True)\n",
    "X= random_noise(X, mode=\"gaussian\",mean=0,var=0.02)\n",
    "print(X.shape, style.shape)\n",
    "# shape = 40\n",
    "# Xp=extract_patches(X,(shape,shape,3),shape)\n",
    "# style_patches =  extract_patches(style,(shape,shape,3),shape)\n",
    "# z=[]\n",
    "# style_patches = style_patches.reshape(-1, shape * shape * 3)\n",
    "# nn_model = NearestNeighbors(n_neighbors=1).fit(style_patches)\n",
    "# \n",
    "# print(X.shape)\n",
    "# Xp = Xp.reshape(-1, shape * shape * 3)\n",
    "# \n",
    "# print(Xp[0], style_patches[0])\n",
    "# \n",
    "# print(4, (Xp.shape))\n",
    "# for Xpatch in Xp:\n",
    "# \n",
    "#     temp_arr = [Xpatch]\n",
    "#     index = nn_model.kneighbors(temp_arr)[1][0][0] \n",
    "#     print(index, nn_model.kneighbors(temp_arr)[0][0][0])\n",
    "#     paa = style_patches[index]\n",
    "#     z.append(style_patches[index])\n",
    "#     #now do un reshape to be 20*20*3\n",
    "#     new_patch = paa.reshape(shape,shape,3)\n",
    "#     show_images([new_patch, Xpatch.reshape(shape,shape,3)])\n",
    "\n",
    "    # X = np.array(z) # should be replaced by the new xpatches generated from irls\n",
    "\n",
    "# show_images([X])\n",
    "style_transfer(X,style,1,1,10,[40],[40],1)"
   ]
  }
 ],
 "metadata": {
  "language_info": {
   "name": "python"
  },
  "kernelspec": {
   "name": "python3",
   "language": "python",
   "display_name": "Python 3 (ipykernel)"
  }
 },
 "nbformat": 4,
 "nbformat_minor": 2
}
