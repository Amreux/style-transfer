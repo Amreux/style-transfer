{
 "cells": [
  {
   "cell_type": "code",
   "execution_count": null,
   "id": "initial_id",
   "metadata": {
    "collapsed": true
   },
   "outputs": [],
   "source": [
    "from scipy.ndimage import gaussian_filter\n",
    "from Common_Functions.CommonFunctions import *\n",
    "from PIL import Image, ImageFilter \n",
    "\n",
    "def color_transfer(content,style):\n",
    "    content=cv2.cvtColor(content, cv2.COLOR_BGR2LAB)\n",
    "    style=cv2.cvtColor(style, cv2.COLOR_BGR2LAB)    \n",
    "    content[:,:,0]-=np.mean(content[:,:,0])\n",
    "    content[:,:,1]-=np.mean(content[:,:,1])\n",
    "    content[:,:,2]-=np.mean(content[:,:,2])\n",
    "    content[:,:,0]*=(np.std(style[:,:,0])/(np.std(content[:,:,0])+0.00001))\n",
    "    content[:,:,1]*=(np.std(style[:,:,1]/(np.std(content[:,:,1])+0.00001)))\n",
    "    content[:,:,2]*=(np.std(style[:,:,2]/(np.std(content[:,:,2])+0.00001)))\n",
    "    content[:,:,0]+=np.mean(style[:,:,0])\n",
    "    content[:,:,1]+=np.mean(style[:,:,1])\n",
    "    content[:,:,2]+=np.mean(style[:,:,2])\n",
    "    return cv2.cvtColor(content.astype(np.float32), cv2.COLOR_LAB2BGR)\n",
    "\n",
    "style=io.imread(\"../imgs/style.jpg\").astype(np.float32)/255\n",
    "ss = gaussian_filter(style, sigma=0.7)\n",
    "show_images([gaussian_filter(style, sigma=0), gaussian_filter(style, sigma=0.7)])\n",
    "show_images([gaussian_filter(style, sigma=0.7), color_transfer(gaussian_filter(style, sigma=0.7),gaussian_filter(style, sigma=0))])\n",
    "\n",
    "blurred_image = style.filter(ImageFilter.GaussianBlur)\n",
    "show_images([style, blurred_image])"
   ]
  },
  {
   "cell_type": "code",
   "execution_count": null,
   "outputs": [],
   "source": [],
   "metadata": {
    "collapsed": false
   },
   "id": "27a0d21fa4835489"
  }
 ],
 "metadata": {
  "kernelspec": {
   "display_name": "Python 3",
   "language": "python",
   "name": "python3"
  },
  "language_info": {
   "codemirror_mode": {
    "name": "ipython",
    "version": 2
   },
   "file_extension": ".py",
   "mimetype": "text/x-python",
   "name": "python",
   "nbconvert_exporter": "python",
   "pygments_lexer": "ipython2",
   "version": "2.7.6"
  }
 },
 "nbformat": 4,
 "nbformat_minor": 5
}
