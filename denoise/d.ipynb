{
 "cells": [
  {
   "cell_type": "code",
   "execution_count": null,
   "id": "initial_id",
   "metadata": {
    "collapsed": true
   },
   "outputs": [],
   "source": []
  },
  {
   "cell_type": "code",
   "execution_count": null,
   "id": "186589aaeecc17cc",
   "metadata": {
    "collapsed": false
   },
   "outputs": [],
   "source": [
    "import cv2 \n",
    "import skimage.io as io\n",
    "import matplotlib.pyplot as plot\n",
    "import numpy as np\n",
    "from skimage.util import random_noise\n",
    "from Common_Functions.CommonFunctions import *\n",
    "\n",
    "\n",
    "def denoise(img,d,sigma_s,sigma_c):\n",
    "\n",
    "    img = io.imread(img)\n",
    "    show_images([img])\n",
    "    # img = cv2.cvtColor(np.array(img), cv2.COLOR_BGRA2BGR)\n",
    "    bilateral = cv2.bilateralFilter(img, d, sigmaColor=sigma_c, sigmaSpace=sigma_s) \n",
    "    plot.imshow(bilateral)\n",
    "    return bilateral\n",
    "\n",
    "img1 = denoise(\"../imgs/output/russia_green4.jpg\", 25, 70, 70)"
   ]
  },
  {
   "cell_type": "code",
   "execution_count": null,
   "id": "2df025ff74abcdc0",
   "metadata": {
    "collapsed": false
   },
   "outputs": [],
   "source": []
  }
 ],
 "metadata": {
  "kernelspec": {
   "display_name": "Python 3",
   "language": "python",
   "name": "python3"
  },
  "language_info": {
   "codemirror_mode": {
    "name": "ipython",
    "version": 2
   },
   "file_extension": ".py",
   "mimetype": "text/x-python",
   "name": "python",
   "nbconvert_exporter": "python",
   "pygments_lexer": "ipython2",
   "version": "2.7.6"
  }
 },
 "nbformat": 4,
 "nbformat_minor": 5
}
