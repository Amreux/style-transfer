{
 "cells": [
  {
   "cell_type": "code",
   "execution_count": null,
   "id": "initial_id",
   "metadata": {
    "ExecuteTime": {
     "end_time": "2023-12-11T18:45:15.063876100Z",
     "start_time": "2023-12-11T18:45:04.186545600Z"
    },
    "collapsed": true
   },
   "outputs": [],
   "source": [
    "import numpy as np \n",
    "import cv2 \n",
    "from matplotlib import pyplot as plt \n",
    "from Common_Functions.CommonFunctions import *\n",
    "\n",
    "def segement(image):\n",
    "\n",
    "\n",
    "    # initialize the mask\n",
    "    mask = np.zeros(image.shape[:2], np.uint8)\n",
    "\n",
    "    # not sure what these are for in the algorithm\n",
    "    backgroundModel = np.zeros((1, 65), np.float64) \n",
    "    foregroundModel = np.zeros((1, 65), np.float64) \n",
    "\n",
    "\n",
    "    img_height=image.shape[0]\n",
    "    img_width= image.shape[1]\n",
    "   \n",
    "\n",
    "   # initialize a rectangle for the grabcut algorithm\n",
    "    rectangle = (1,1,img_width,img_height)\n",
    "\n",
    "    # run the grabcut algorithm for 8 iterations\n",
    "    cv2.grabCut(image, mask, rectangle, backgroundModel, foregroundModel, 10, cv2.GC_INIT_WITH_RECT) \n",
    "   \n",
    "\n",
    "    # generate the forground mask\n",
    "    mask_forground = np.where((mask == 2)|(mask == 0), 0, 1).astype('uint8') \n",
    "\n",
    "    # get the final image\n",
    "    result_img = image * mask_forground[:, :, np.newaxis] \n",
    "\n",
    " \n",
    "    result_mask = np.where((result_img>0),1,0).astype(float)\n",
    "\n",
    "    return result_mask\n",
    "\n",
    "img1 = io.imread('../imgs/c2.jpeg')\n",
    "segement(img1)\n"
   ]
  },
  {
   "cell_type": "code",
   "execution_count": null,
   "id": "2565cc918c99f708",
   "metadata": {
    "collapsed": false
   },
   "outputs": [],
   "source": []
  }
 ],
 "metadata": {
  "kernelspec": {
   "display_name": "Python 3",
   "language": "python",
   "name": "python3"
  },
  "language_info": {
   "codemirror_mode": {
    "name": "ipython",
    "version": 2
   },
   "file_extension": ".py",
   "mimetype": "text/x-python",
   "name": "python",
   "nbconvert_exporter": "python",
   "pygments_lexer": "ipython2",
   "version": "2.7.6"
  }
 },
 "nbformat": 4,
 "nbformat_minor": 5
}
